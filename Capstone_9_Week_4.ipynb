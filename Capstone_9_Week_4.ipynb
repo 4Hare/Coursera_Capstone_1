{
 "cells": [
  {
   "cell_type": "markdown",
   "metadata": {},
   "source": [
    "# Applied Data Science Capstone:\n",
    "\n",
    "## Identify New York Public High Schools with the Highest SAT Test Scores\n",
    "\n",
    "### Table of contents\n",
    "    Introduction: Business Problem\n",
    "    Data\n",
    "    Methodology\n",
    "    Analysis\n",
    "    Results and Discussion\n",
    "    Conclusion\n",
    "\n",
    "### Introduction: Business Problem \n",
    "The purpose of this project is to identifiy which public high school's within the five boroughs that make up the New York City area have the highest overall SAT scores, while isolating the public high school's that received the highest score for each section (math, reading, writing) of the SAT test and through k-mean clustering locate which borough has the highest performing public high schools. \n",
    "\n",
    "This report will be targeted to people who are looking to relocate or trying to apply to New York City area public high schools with the highest performing SAT scores. \n",
    "\n",
    "\n",
    "### Data \n",
    "Concentrating on the stated business problem, factors that will influence the location of high schoosl are:\n",
    "\n",
    "The SAT score averages that have been provided by the College Board in each of the five boroughs creating the New York City area during the years 2014-2015.\n",
    "\n",
    "The high school data that has been compiled and published by the New York City Department of Education.\n",
    "\n",
    "Following data sources will be needed to extract/generate the required information:\n",
    "\n",
    "Part 1: Preprocessing the average SAT 2014-2015 school year SAT test scores data from Kaggle. Crafting a datafram illustrating the avaerage SAT scores for every accredited high school in the New York City, five borough area. \n",
    "\n",
    "Part 2: Generate a map of the public high schools with the highest average total SAT test scores and three main sections of the test within the five boroughs area of New York City via folium.  \n",
    "\n",
    "Part 3: Identify the closest venders to the public high schools with the highest SAT test scores with the 5 borough New York City area, via FourSquare API and geocoding."
   ]
  }
 ],
 "metadata": {
  "kernelspec": {
   "display_name": "Python 3",
   "language": "python",
   "name": "python3"
  },
  "language_info": {
   "codemirror_mode": {
    "name": "ipython",
    "version": 3
   },
   "file_extension": ".py",
   "mimetype": "text/x-python",
   "name": "python",
   "nbconvert_exporter": "python",
   "pygments_lexer": "ipython3",
   "version": "3.7.3"
  }
 },
 "nbformat": 4,
 "nbformat_minor": 2
}
